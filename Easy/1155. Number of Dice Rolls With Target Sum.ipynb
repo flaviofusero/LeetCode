{
 "cells": [
  {
   "cell_type": "code",
   "execution_count": 51,
   "metadata": {},
   "outputs": [],
   "source": [
    "import pdb\n",
    "import logging"
   ]
  },
  {
   "cell_type": "code",
   "execution_count": 88,
   "metadata": {},
   "outputs": [],
   "source": [
    "class Solution:\n",
    "    def numRollsToTarget(self, d: int, f: int, target: int) -> int:\n",
    "        logging.getLogger().setLevel(logging.WARNING)\n",
    "        t = [[0] * 1000 for i in range(1000)]\n",
    "        for j in range(1, min(f, target)+1):\n",
    "            t[1][j] = 1\n",
    "            logging.warning(\"j = %s\", j)\n",
    "        if d == 1:\n",
    "            return t[1][target]\n",
    "        if d >= 2:\n",
    "            for i in range(2, d):\n",
    "                for j in range(1, target+1):\n",
    "                    t[i][j] = sum([t[i-1][l] for l in range(max(0, j-f), j)])\n",
    "        return sum([t[d-1][l] for l in range(max(0, target-f), target)]) % (10^9 + 7)"
   ]
  },
  {
   "cell_type": "code",
   "execution_count": 89,
   "metadata": {},
   "outputs": [
    {
     "name": "stderr",
     "output_type": "stream",
     "text": [
      "WARNING:root:j = 1\n",
      "WARNING:root:j = 2\n"
     ]
    },
    {
     "data": {
      "text/plain": [
       "1"
      ]
     },
     "execution_count": 89,
     "metadata": {},
     "output_type": "execute_result"
    }
   ],
   "source": [
    "s = Solution()\n",
    "s.numRollsToTarget(10, 2, 10)"
   ]
  },
  {
   "cell_type": "code",
   "execution_count": 50,
   "metadata": {},
   "outputs": [
    {
     "data": {
      "text/plain": [
       "26"
      ]
     },
     "execution_count": 50,
     "metadata": {},
     "output_type": "execute_result"
    }
   ],
   "source": [
    "10^9+7"
   ]
  },
  {
   "cell_type": "code",
   "execution_count": null,
   "metadata": {},
   "outputs": [],
   "source": []
  }
 ],
 "metadata": {
  "kernelspec": {
   "display_name": "Python 3",
   "language": "python",
   "name": "python3"
  },
  "language_info": {
   "codemirror_mode": {
    "name": "ipython",
    "version": 3
   },
   "file_extension": ".py",
   "mimetype": "text/x-python",
   "name": "python",
   "nbconvert_exporter": "python",
   "pygments_lexer": "ipython3",
   "version": "3.7.3"
  }
 },
 "nbformat": 4,
 "nbformat_minor": 2
}
